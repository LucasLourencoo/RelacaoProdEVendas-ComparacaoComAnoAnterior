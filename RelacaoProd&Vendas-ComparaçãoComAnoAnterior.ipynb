{
 "cells": [
  {
   "cell_type": "code",
   "execution_count": 17,
   "metadata": {},
   "outputs": [
    {
     "name": "stdout",
     "output_type": "stream",
     "text": [
      "=================================================================================================================\n",
      "||\u001b[44m   PRODUTOS    | VENDAS 2021  |   FATURAMENTO 2021    | VENDAS 2022  |   FATURAMENTO 2022    |  CRESCIMENTO  \u001b[0m||\n",
      "=================================================================================================================\n",
      "||    Iphone     |  6651   Units| R$       33.255.000,00|  8987   Units| R$       44.935.000,00|\u001b[42m          35.1%\u001b[0m||\n",
      "||   Televisão   |  4654   Units| R$       55.848.000,00|  7897   Units| R$       94.764.000,00|\u001b[42m          69.7%\u001b[0m||\n",
      "||   Geladeira   |  8746   Units| R$       26.238.000,00|  4231   Units| R$       12.693.000,00|\u001b[41m         -51.6%\u001b[0m||\n",
      "||    Galaxy     |  2131   Units| R$        7.458.500,00|  4987   Units| R$       17.454.500,00|\u001b[42m         134.0%\u001b[0m||\n",
      "||      Pc       |  4894   Units| R$       29.364.000,00|  3467   Units| R$       20.802.000,00|\u001b[41m         -29.2%\u001b[0m||\n",
      "||  Impressora   |  5400   Units| R$        3.780.000,00|  3300   Units| R$        2.310.000,00|\u001b[41m         -38.9%\u001b[0m||\n",
      "||    Tablet     |   200   Units| R$          180.000,00|   100   Units| R$           90.000,00|\u001b[41m         -50.0%\u001b[0m||\n",
      "||      Ps4      |  10000  Units| R$       20.000.000,00|  20000  Units| R$       40.000.000,00|\u001b[42m         100.0%\u001b[0m||\n",
      "=================================================================================================================\n",
      "||   Subtotal:   |  42676  Units| R$      176.123.500,00|  52969  Units| R$      233.048.500,00|\u001b[42m     32.3%     \u001b[0m||\n",
      "=================================================================================================================\n"
     ]
    }
   ],
   "source": [
    "def percentuar(a, b):\n",
    "    c = f'{a / b - 1:.1%}'\n",
    "    return c\n",
    "\n",
    "\n",
    "def formatar_moeda(valor):\n",
    "    \n",
    "    valor = f'{valor:_.2f}'.replace(\".\",',').replace(\"_\",\".\")\n",
    "    return valor \n",
    "\n",
    "\n",
    "def avaliar_condicao():\n",
    "    if v2022 > v2021:\n",
    "        resultado = f'||{produto.title():^15}|{v2021:^9}Units| R${formatar_moeda(preco * v2021):>20}|{v2022:^9}Units| R${formatar_moeda(preco * v2022):>20}|\\033[42m{percentuar(v2022, v2021):>15}\\033[0m||'\n",
    "\n",
    "    elif v2021 > v2022:\n",
    "        resultado = f'||{produto.title():^15}|{v2021:^9}Units| R${formatar_moeda(preco * v2021):>20}|{v2022:^9}Units| R${formatar_moeda(preco * v2022):>20}|\\033[41m{percentuar(v2022, v2021):>15}\\033[0m||'\n",
    "    \n",
    "    return resultado\n",
    "\n",
    "\n",
    "def avaliar_subtotal():\n",
    "    if fatura_2022 / fatura_2021 - 1 > 0:\n",
    "        resultado = f'||{\"Subtotal:\":^15}|{qtde_vendas_totais2021:^9}Units| R${formatar_moeda(fatura_2021):>20}|{qtde_vendas_totais2022:^9}Units| R${formatar_moeda(fatura_2022):>20}|\\033[42m{fatura_2022 / fatura_2021 - 1:^15.1%}\\033[0m||'\n",
    "\n",
    "    elif fatura_2022 / fatura_2021 - 1 < 0:\n",
    "        resultado = f'||{\"Subtotal:\":^15}|{qtde_vendas_totais2021:^9}Units| R${formatar_moeda(fatura_2021):>20}|{qtde_vendas_totais2022:^9}Units| R${formatar_moeda(fatura_2022):>20}|\\033[41m{fatura_2022 / fatura_2021 - 1:^15.1%}\\033[0m||'\n",
    "\n",
    "    return resultado\n",
    "\n",
    "\n",
    "produtos = ['iphone', 'televisão', 'geladeira', 'galaxy', 'pc','impressora','tablet','ps4']\n",
    "preco_unit = [5000, 12000, 3000, 3500, 6000, 700, 900, 2000]\n",
    "vendas2021 = [6651,4654,8746,2131,4894,5400,200,10000]\n",
    "vendas2022 = [8987,7897,4231,4987, 3467,3300,100,20000]\n",
    "\n",
    "vendas_geral = list(zip(preco_unit, vendas2021, vendas2022))\n",
    "dic_prod = dict(zip(produtos, vendas_geral))\n",
    "\n",
    "print('=' * 113)\n",
    "print('||\\033[44m{:^15}|{:^14}|{:^23}|{:^14}|{:^23}|{:^15}\\033[0m||'.format('PRODUTOS', 'VENDAS 2021', 'FATURAMENTO 2021', 'VENDAS 2022', 'FATURAMENTO 2022', 'CRESCIMENTO'))\n",
    "print('=' * 113)\n",
    "\n",
    "fatura_2021 = 0\n",
    "fatura_2022 = 0\n",
    "for each in dic_prod.items():\n",
    "    \n",
    "    produto, items = each\n",
    "    preco, v2021, v2022 = items\n",
    "    \n",
    "    fatura_2021 += preco * v2021   \n",
    "    fatura_2022 += preco * v2022\n",
    "    print(avaliar_condicao()) \n",
    "\n",
    "print('=' * 113)\n",
    "qtde_vendas_totais2021 = sum([each for each in vendas2021])\n",
    "qtde_vendas_totais2022 = sum([each for each in vendas2022])\n",
    "\n",
    "print(avaliar_subtotal())\n",
    "print('=' * 113)\n"
   ]
  }
 ],
 "metadata": {
  "interpreter": {
   "hash": "665796ea3363072d3a6057ac2fdbe3c4fcb0d17a4b92295d9707f78e9c46c0af"
  },
  "kernelspec": {
   "display_name": "Python 3.9.7 ('base')",
   "language": "python",
   "name": "python3"
  },
  "language_info": {
   "codemirror_mode": {
    "name": "ipython",
    "version": 3
   },
   "file_extension": ".py",
   "mimetype": "text/x-python",
   "name": "python",
   "nbconvert_exporter": "python",
   "pygments_lexer": "ipython3",
   "version": "3.9.7"
  },
  "orig_nbformat": 4
 },
 "nbformat": 4,
 "nbformat_minor": 2
}
